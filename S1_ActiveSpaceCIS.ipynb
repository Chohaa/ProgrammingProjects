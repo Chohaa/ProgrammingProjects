{
 "cells": [
  {
   "cell_type": "code",
   "execution_count": 11,
   "id": "20ca27b2-9a7d-4f9b-8c1f-9fdf7223aa9b",
   "metadata": {
    "tags": []
   },
   "outputs": [],
   "source": [
    "import pyscf\n",
    "import numpy as np\n",
    "from pyscf import gto, scf, tdscf, cc"
   ]
  },
  {
   "cell_type": "code",
   "execution_count": 12,
   "id": "6e172b9f-0226-4420-84a4-3810997a9638",
   "metadata": {
    "tags": []
   },
   "outputs": [
    {
     "data": {
      "text/plain": [
       "<pyscf.gto.mole.Mole at 0x7fd6ba7e47d0>"
      ]
     },
     "execution_count": 12,
     "metadata": {},
     "output_type": "execute_result"
    }
   ],
   "source": [
    "mol = gto.Mole()\n",
    "mol.atom = '''\n",
    "H       -3.4261000000     -2.2404000000      5.4884000000\n",
    "H       -5.6274000000     -1.0770000000      5.2147000000\n",
    "C       -3.6535000000     -1.7327000000      4.5516000000\n",
    "H       -1.7671000000     -2.2370000000      3.6639000000\n",
    "C       -4.9073000000     -1.0688000000      4.3947000000\n",
    "H       -6.1631000000      0.0964000000      3.1014000000\n",
    "C       -2.7258000000     -1.7321000000      3.5406000000\n",
    "H       -0.3003000000      1.0832000000     -5.2357000000\n",
    "C       -5.2098000000     -0.4190000000      3.2249000000\n",
    "C       -2.9961000000     -1.0636000000      2.3073000000\n",
    "H       -1.1030000000     -1.5329000000      1.3977000000\n",
    "H       -0.4270000000     -0.8029000000     -0.8566000000\n",
    "H        0.2361000000     -0.0979000000     -3.1273000000\n",
    "C       -1.0193000000      1.0730000000     -4.4150000000\n",
    "H       -2.4988000000      2.2519000000     -5.5034000000\n",
    "C       -4.2740000000     -0.3924000000      2.1445000000\n",
    "H       -5.5015000000      0.7944000000      0.8310000000\n",
    "C       -2.0613000000     -1.0272000000      1.2718000000\n",
    "C       -1.3820000000     -0.2895000000     -0.9772000000\n",
    "C       -0.7171000000      0.4180000000     -3.2476000000\n",
    "C       -2.2720000000      1.7395000000     -4.5690000000\n",
    "H       -4.1576000000      2.2412000000     -3.6787000000\n",
    "C       -4.5463000000      0.2817000000      0.9534000000\n",
    "C       -2.3243000000     -0.3402000000      0.0704000000\n",
    "C       -1.6528000000      0.3874000000     -2.1670000000\n",
    "C       -3.1998000000      1.7341000000     -3.5584000000\n",
    "C       -3.6044000000      0.3309000000     -0.0943000000\n",
    "C       -2.9302000000      1.0591000000     -2.3292000000\n",
    "C       -3.8665000000      1.0187000000     -1.2955000000\n",
    "H       -4.8243000000      1.5256000000     -1.4217000000\n",
    "'''\n",
    "\n",
    "mol.basis = '6-31g*'\n",
    "mol.spin = 0\n",
    "mol.build()"
   ]
  },
  {
   "cell_type": "code",
   "execution_count": 13,
   "id": "492303d5-5d98-4049-bacc-e24df26934a3",
   "metadata": {
    "tags": []
   },
   "outputs": [],
   "source": [
    "mf = scf.RHF(mol)\n",
    "#mf.verbose = 4\n",
    "#mf.get_init_guess(mol, key='minao')\n",
    "#mf.conv_tol = 1e-9\n",
    "#mf.level_shift = .1\n",
    "#mf.diis_start_cycle = 4\n",
    "#mf.diis_space = 10\n",
    "#mf.run(max_cycle=200)\n"
   ]
  },
  {
   "cell_type": "code",
   "execution_count": 14,
   "id": "f92f512e-e061-4f2b-904e-a2d0f8a802ab",
   "metadata": {
    "tags": []
   },
   "outputs": [],
   "source": [
    "def tda_denisty_matrix(td, state_id):\n",
    "    '''\n",
    "    Taking the TDA amplitudes as the CIS coefficients, calculate the density\n",
    "    matrix (in AO basis) of the excited states\n",
    "    '''\n",
    "    cis_t1 = td.xy[state_id][0]\n",
    "    dm_oo =-np.einsum('ia,ka->ik', cis_t1.conj(), cis_t1)\n",
    "    dm_vv = np.einsum('ia,ic->ac', cis_t1, cis_t1.conj())\n",
    "\n",
    "    # The ground state density matrix in mo_basis\n",
    "    mf = td._scf\n",
    "    dm = np.diag(mf.mo_occ)\n",
    "\n",
    "    # Add CIS contribution\n",
    "    nocc = cis_t1.shape[0]\n",
    "    # Note that dm_oo and dm_vv correspond to spin-up contribution. \"*2\" to\n",
    "    # include the spin-down contribution\n",
    "    dm[:nocc,:nocc] += dm_oo * 2\n",
    "    dm[nocc:,nocc:] += dm_vv * 2\n",
    "\n",
    "    # Transform density matrix to AO basis\n",
    "    mo = mf.mo_coeff\n",
    "    dm = np.einsum('pi,ij,qj->pq', mo, dm, mo.conj())\n",
    "    return dm\n"
   ]
  },
  {
   "cell_type": "code",
   "execution_count": 15,
   "id": "b3aca764-218a-4152-a689-afb89739c2ee",
   "metadata": {
    "tags": []
   },
   "outputs": [],
   "source": [
    "def get_natural_orbital_active_space(rdm, S, thresh=.01):\n",
    "   \n",
    "\n",
    "    Ssqrt = scipy.linalg.sqrtm((S+S.T)/2.0)\n",
    "    Sinvsqrt = scipy.linalg.inv(Ssqrt)\n",
    "\n",
    "    print(\" Number of electrons found %12.8f\" %np.trace(S@rdm))\n",
    "\n",
    "    Dtot = Ssqrt.T @ rdm @ Ssqrt\n",
    "    #Dtot = Ssqrt.T @ ( da + db) @ Ssqrt\n",
    "    D_evals, D_evecs = np.linalg.eigh((Dtot+Dtot.T)/2.0)\n",
    "\n",
    "    sorted_list = np.argsort(D_evals)[::-1]\n",
    "    D_evals = D_evals[sorted_list]\n",
    "    D_evecs = D_evecs[:,sorted_list]\n",
    "\n",
    "    act_list = []\n",
    "    doc_list = []\n",
    "\n",
    "\n",
    "    for idx,n in enumerate(D_evals):\n",
    "        print(\" %4i = %12.8f\" %(idx,n),end=\"\")\n",
    "        if n < 2.0 - thresh:\n",
    "            if n > thresh:\n",
    "                act_list.append(idx)\n",
    "                print(\" Active\")\n",
    "            else:\n",
    "                print(\" Virt\")\n",
    "        else:\n",
    "            doc_list.append(idx)\n",
    "            print(\" DOcc\")\n",
    "\n",
    "    print(\" Number of active orbitals: \", len(act_list))\n",
    "    print(\" Number of doc    orbitals: \", len(doc_list))\n",
    "\n",
    "    D_evecs = Sinvsqrt @ D_evecs\n",
    "    Cdoc = D_evecs[:, doc_list]\n",
    "    Cact = D_evecs[:, act_list]\n",
    "    return Cdoc, Cact "
   ]
  },
  {
   "cell_type": "code",
   "execution_count": 16,
   "id": "d33e31ed-f0e3-4670-9962-cfd9bf31b75d",
   "metadata": {
    "tags": []
   },
   "outputs": [
    {
     "name": "stdout",
     "output_type": "stream",
     "text": [
      "\n",
      "WARN: Ground state SCF is not converged\n",
      "\n"
     ]
    },
    {
     "ename": "AttributeError",
     "evalue": "'NoneType' object has no attribute 'dtype'",
     "output_type": "error",
     "traceback": [
      "\u001b[0;31m---------------------------------------------------------------------------\u001b[0m",
      "\u001b[0;31mAttributeError\u001b[0m                            Traceback (most recent call last)",
      "\u001b[0;32m<ipython-input-16-e7eead937f7b>\u001b[0m in \u001b[0;36m<module>\u001b[0;34m\u001b[0m\n\u001b[1;32m      8\u001b[0m \u001b[0mmytd\u001b[0m \u001b[0;34m=\u001b[0m \u001b[0mtdscf\u001b[0m\u001b[0;34m.\u001b[0m\u001b[0mTDA\u001b[0m\u001b[0;34m(\u001b[0m\u001b[0mmf\u001b[0m\u001b[0;34m)\u001b[0m\u001b[0;34m\u001b[0m\u001b[0;34m\u001b[0m\u001b[0m\n\u001b[1;32m      9\u001b[0m \u001b[0mmytd\u001b[0m\u001b[0;34m.\u001b[0m\u001b[0msinglet\u001b[0m \u001b[0;34m=\u001b[0m \u001b[0;32mTrue\u001b[0m\u001b[0;34m\u001b[0m\u001b[0;34m\u001b[0m\u001b[0m\n\u001b[0;32m---> 10\u001b[0;31m \u001b[0mmytd\u001b[0m \u001b[0;34m=\u001b[0m \u001b[0mmytd\u001b[0m\u001b[0;34m.\u001b[0m\u001b[0mrun\u001b[0m\u001b[0;34m(\u001b[0m\u001b[0mnstates\u001b[0m\u001b[0;34m=\u001b[0m\u001b[0;36m1\u001b[0m\u001b[0;34m)\u001b[0m\u001b[0;34m\u001b[0m\u001b[0;34m\u001b[0m\u001b[0m\n\u001b[0m\u001b[1;32m     11\u001b[0m \u001b[0mmytd\u001b[0m\u001b[0;34m.\u001b[0m\u001b[0manalyze\u001b[0m\u001b[0;34m(\u001b[0m\u001b[0;34m)\u001b[0m\u001b[0;34m\u001b[0m\u001b[0;34m\u001b[0m\u001b[0m\n\u001b[1;32m     12\u001b[0m \u001b[0;32mfor\u001b[0m \u001b[0mi\u001b[0m \u001b[0;32min\u001b[0m \u001b[0mrange\u001b[0m\u001b[0;34m(\u001b[0m\u001b[0mmytd\u001b[0m\u001b[0;34m.\u001b[0m\u001b[0mnroots\u001b[0m\u001b[0;34m)\u001b[0m\u001b[0;34m:\u001b[0m\u001b[0;34m\u001b[0m\u001b[0;34m\u001b[0m\u001b[0m\n",
      "\u001b[0;32m~/anaconda3/lib/python3.7/site-packages/pyscf/lib/misc.py\u001b[0m in \u001b[0;36mrun\u001b[0;34m(self, *args, **kwargs)\u001b[0m\n\u001b[1;32m    470\u001b[0m         '''\n\u001b[1;32m    471\u001b[0m         \u001b[0mself\u001b[0m\u001b[0;34m.\u001b[0m\u001b[0mset\u001b[0m\u001b[0;34m(\u001b[0m\u001b[0;34m**\u001b[0m\u001b[0mkwargs\u001b[0m\u001b[0;34m)\u001b[0m\u001b[0;34m\u001b[0m\u001b[0;34m\u001b[0m\u001b[0m\n\u001b[0;32m--> 472\u001b[0;31m         \u001b[0mself\u001b[0m\u001b[0;34m.\u001b[0m\u001b[0mkernel\u001b[0m\u001b[0;34m(\u001b[0m\u001b[0;34m*\u001b[0m\u001b[0margs\u001b[0m\u001b[0;34m)\u001b[0m\u001b[0;34m\u001b[0m\u001b[0;34m\u001b[0m\u001b[0m\n\u001b[0m\u001b[1;32m    473\u001b[0m         \u001b[0;32mreturn\u001b[0m \u001b[0mself\u001b[0m\u001b[0;34m\u001b[0m\u001b[0;34m\u001b[0m\u001b[0m\n\u001b[1;32m    474\u001b[0m \u001b[0;34m\u001b[0m\u001b[0m\n",
      "\u001b[0;32m~/anaconda3/lib/python3.7/site-packages/pyscf/tdscf/rhf.py\u001b[0m in \u001b[0;36mkernel\u001b[0;34m(self, x0, nstates)\u001b[0m\n\u001b[1;32m    754\u001b[0m         \u001b[0mlog\u001b[0m \u001b[0;34m=\u001b[0m \u001b[0mlogger\u001b[0m\u001b[0;34m.\u001b[0m\u001b[0mLogger\u001b[0m\u001b[0;34m(\u001b[0m\u001b[0mself\u001b[0m\u001b[0;34m.\u001b[0m\u001b[0mstdout\u001b[0m\u001b[0;34m,\u001b[0m \u001b[0mself\u001b[0m\u001b[0;34m.\u001b[0m\u001b[0mverbose\u001b[0m\u001b[0;34m)\u001b[0m\u001b[0;34m\u001b[0m\u001b[0;34m\u001b[0m\u001b[0m\n\u001b[1;32m    755\u001b[0m \u001b[0;34m\u001b[0m\u001b[0m\n\u001b[0;32m--> 756\u001b[0;31m         \u001b[0mvind\u001b[0m\u001b[0;34m,\u001b[0m \u001b[0mhdiag\u001b[0m \u001b[0;34m=\u001b[0m \u001b[0mself\u001b[0m\u001b[0;34m.\u001b[0m\u001b[0mgen_vind\u001b[0m\u001b[0;34m(\u001b[0m\u001b[0mself\u001b[0m\u001b[0;34m.\u001b[0m\u001b[0m_scf\u001b[0m\u001b[0;34m)\u001b[0m\u001b[0;34m\u001b[0m\u001b[0;34m\u001b[0m\u001b[0m\n\u001b[0m\u001b[1;32m    757\u001b[0m         \u001b[0mprecond\u001b[0m \u001b[0;34m=\u001b[0m \u001b[0mself\u001b[0m\u001b[0;34m.\u001b[0m\u001b[0mget_precond\u001b[0m\u001b[0;34m(\u001b[0m\u001b[0mhdiag\u001b[0m\u001b[0;34m)\u001b[0m\u001b[0;34m\u001b[0m\u001b[0;34m\u001b[0m\u001b[0m\n\u001b[1;32m    758\u001b[0m \u001b[0;34m\u001b[0m\u001b[0m\n",
      "\u001b[0;32m~/anaconda3/lib/python3.7/site-packages/pyscf/tdscf/rhf.py\u001b[0m in \u001b[0;36mgen_vind\u001b[0;34m(self, mf)\u001b[0m\n\u001b[1;32m    702\u001b[0m     \u001b[0;32mdef\u001b[0m \u001b[0mgen_vind\u001b[0m\u001b[0;34m(\u001b[0m\u001b[0mself\u001b[0m\u001b[0;34m,\u001b[0m \u001b[0mmf\u001b[0m\u001b[0;34m)\u001b[0m\u001b[0;34m:\u001b[0m\u001b[0;34m\u001b[0m\u001b[0;34m\u001b[0m\u001b[0m\n\u001b[1;32m    703\u001b[0m         \u001b[0;34m'''Compute Ax'''\u001b[0m\u001b[0;34m\u001b[0m\u001b[0;34m\u001b[0m\u001b[0m\n\u001b[0;32m--> 704\u001b[0;31m         \u001b[0;32mreturn\u001b[0m \u001b[0mgen_tda_hop\u001b[0m\u001b[0;34m(\u001b[0m\u001b[0mmf\u001b[0m\u001b[0;34m,\u001b[0m \u001b[0msinglet\u001b[0m\u001b[0;34m=\u001b[0m\u001b[0mself\u001b[0m\u001b[0;34m.\u001b[0m\u001b[0msinglet\u001b[0m\u001b[0;34m,\u001b[0m \u001b[0mwfnsym\u001b[0m\u001b[0;34m=\u001b[0m\u001b[0mself\u001b[0m\u001b[0;34m.\u001b[0m\u001b[0mwfnsym\u001b[0m\u001b[0;34m)\u001b[0m\u001b[0;34m\u001b[0m\u001b[0;34m\u001b[0m\u001b[0m\n\u001b[0m\u001b[1;32m    705\u001b[0m \u001b[0;34m\u001b[0m\u001b[0m\n\u001b[1;32m    706\u001b[0m     \u001b[0;34m@\u001b[0m\u001b[0mlib\u001b[0m\u001b[0;34m.\u001b[0m\u001b[0mwith_doc\u001b[0m\u001b[0;34m(\u001b[0m\u001b[0mget_ab\u001b[0m\u001b[0;34m.\u001b[0m\u001b[0m__doc__\u001b[0m\u001b[0;34m)\u001b[0m\u001b[0;34m\u001b[0m\u001b[0;34m\u001b[0m\u001b[0m\n",
      "\u001b[0;32m~/anaconda3/lib/python3.7/site-packages/pyscf/tdscf/rhf.py\u001b[0m in \u001b[0;36mgen_tda_operation\u001b[0;34m(mf, fock_ao, singlet, wfnsym)\u001b[0m\n\u001b[1;32m     53\u001b[0m     \u001b[0mmol\u001b[0m \u001b[0;34m=\u001b[0m \u001b[0mmf\u001b[0m\u001b[0;34m.\u001b[0m\u001b[0mmol\u001b[0m\u001b[0;34m\u001b[0m\u001b[0;34m\u001b[0m\u001b[0m\n\u001b[1;32m     54\u001b[0m     \u001b[0mmo_coeff\u001b[0m \u001b[0;34m=\u001b[0m \u001b[0mmf\u001b[0m\u001b[0;34m.\u001b[0m\u001b[0mmo_coeff\u001b[0m\u001b[0;34m\u001b[0m\u001b[0;34m\u001b[0m\u001b[0m\n\u001b[0;32m---> 55\u001b[0;31m     \u001b[0;32massert\u001b[0m\u001b[0;34m(\u001b[0m\u001b[0mmo_coeff\u001b[0m\u001b[0;34m.\u001b[0m\u001b[0mdtype\u001b[0m \u001b[0;34m==\u001b[0m \u001b[0mnumpy\u001b[0m\u001b[0;34m.\u001b[0m\u001b[0mdouble\u001b[0m\u001b[0;34m)\u001b[0m\u001b[0;34m\u001b[0m\u001b[0;34m\u001b[0m\u001b[0m\n\u001b[0m\u001b[1;32m     56\u001b[0m     \u001b[0mmo_energy\u001b[0m \u001b[0;34m=\u001b[0m \u001b[0mmf\u001b[0m\u001b[0;34m.\u001b[0m\u001b[0mmo_energy\u001b[0m\u001b[0;34m\u001b[0m\u001b[0;34m\u001b[0m\u001b[0m\n\u001b[1;32m     57\u001b[0m     \u001b[0mmo_occ\u001b[0m \u001b[0;34m=\u001b[0m \u001b[0mmf\u001b[0m\u001b[0;34m.\u001b[0m\u001b[0mmo_occ\u001b[0m\u001b[0;34m\u001b[0m\u001b[0;34m\u001b[0m\u001b[0m\n",
      "\u001b[0;31mAttributeError\u001b[0m: 'NoneType' object has no attribute 'dtype'"
     ]
    }
   ],
   "source": [
    "#n_triplets = 2\n",
    "#n_singlets = 1\n",
    "\n",
    "#avg_rdm1 = mf.make_rdm1()\n",
    "\n",
    "\n",
    "# compute singlets\n",
    "mytd = tdscf.TDA(mf)\n",
    "mytd.singlet = True \n",
    "mytd = mytd.run(nstates=1)\n",
    "mytd.analyze()\n",
    "for i in range(mytd.nroots):\n",
    "    avg_rdm1 += tda_denisty_matrix(mytd, i)\n",
    "\n",
    "# compute triplets \n",
    "mytd = tdscf.TDA(mf)\n",
    "mytd.singlet = False \n",
    "mytd = mytd.run(nstates=2)\n",
    "mytd.analyze()\n",
    "for i in range(mytd.nroots):\n",
    "    avg_rdm1 += tda_denisty_matrix(mytd, i)\n",
    "\n",
    "# normalize\n",
    "avg_rdm1 = avg_rdm1 / (n_singlets + n_triplets + 1)\n",
    "\n",
    "\n",
    "S = mf.get_ovlp()\n",
    "\n",
    "\n",
    "#np.save(\"overlap_mat\", S)\n",
    "#np.save(\"density_mat\", mf.make_rdm1())\n",
    "#np.save(\"rhf_mo_coeffs\", mf.mo_coeff)\n",
    "#np.save(\"cis_sa_density_mat\", avg_rdm1)\n",
    "print(np.shape(mo))\n",
    "print(np.shape(avg_rdm1))\n",
    "print(np.shape(S))\n",
    "print(np.shape(S@avg_rdm1))\n",
    "print(np.trace(S@avg_rdm1))\n",
    "print(mol.nelec)"
   ]
  },
  {
   "cell_type": "code",
   "execution_count": null,
   "id": "f9fa1307-af8b-4949-afa3-d83fe9518a99",
   "metadata": {},
   "outputs": [],
   "source": []
  },
  {
   "cell_type": "code",
   "execution_count": null,
   "id": "5c5d84a9-2d70-40d5-ade3-7fcb5265f3c4",
   "metadata": {},
   "outputs": [],
   "source": []
  }
 ],
 "metadata": {
  "kernelspec": {
   "display_name": "Python 3",
   "language": "python",
   "name": "python3"
  },
  "language_info": {
   "codemirror_mode": {
    "name": "ipython",
    "version": 3
   },
   "file_extension": ".py",
   "mimetype": "text/x-python",
   "name": "python",
   "nbconvert_exporter": "python",
   "pygments_lexer": "ipython3",
   "version": "3.7.16"
  }
 },
 "nbformat": 4,
 "nbformat_minor": 5
}
