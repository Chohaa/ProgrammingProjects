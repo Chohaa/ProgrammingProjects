{
 "cells": [
  {
   "cell_type": "code",
   "execution_count": 96,
   "id": "9d219bf4-ef4a-4418-98f1-5e7e0bea8f50",
   "metadata": {},
   "outputs": [],
   "source": [
    "import numpy as np \n",
    "from scipy.special import factorial2 as fact2 \n",
    "\n",
    "#overlap integral between two Gaussian functions of arbitrary momenta\n",
    "\n",
    "def I(i,j,t,Qx,a,b):\n",
    "    p = a + b\n",
    "    q = a*b/p\n",
    "    if (t < 0) or (t > (i + j)):\n",
    "        #t for recurrence condition\n",
    "        #i,j; quantum numbers, Qx; A-B, a,b; exponential \n",
    "        return 0.0\n",
    "    elif i == j == t == 0: \n",
    "        return np.exp(-q*Qx*Qx)\n",
    "    elif j == 0:\n",
    "        return (1/(2*p))*I(i-1,j,t-1,Qx,a,b) - (q*Qx/a)*I(i-1,j,t,Qx,a,b) + (t+1)*I(i-1,j,t+1,Qx,a,b)\n",
    "    else:\n",
    "        return (1/(2*p))*I(i,j-1,t-1,Qx,a,b) + (q*Qx/b)*I(i,j-1,t,Qx,a,b) + (t+1)*I(i,j-1,t+1,Qx,a,b)\n",
    "\n",
    "def overlap(a,lmn1,A,b,lmn2,B):\n",
    "    l1,m1,n1 = lmn1\n",
    "    l2,m2,n2 = lmn2\n",
    "    S1 = I(l1,l2,0,A[0]-B[0],a,b)\n",
    "    S2 = I(m1,m2,0,A[1]-B[1],a,b)\n",
    "    S3 = I(n1,n2,0,A[2]-B[2],a,b)\n",
    "    return S1*S2*S3*np.power(np.pi/(a+b),1.5)"
   ]
  },
  {
   "cell_type": "code",
   "execution_count": 95,
   "id": "9c7e974f-c893-4fcd-b39c-b6e27f7c7720",
   "metadata": {},
   "outputs": [],
   "source": [
    "class BasisFunction:\n",
    "\n",
    "    def __init__(self,origin,shell,exps,coefs):\n",
    "        self.origin = np.asarray(origin)\n",
    "        self.shell = shell\n",
    "        self.exps = exps\n",
    "        self.coefs = coefs\n",
    "        self.norm = None\n",
    "        self.normalize()\n",
    "\n",
    "    def normalize(self):\n",
    "        l,m,n = self.shell\n",
    "        L = l+m+n\n",
    "        self.norm = np.sqrt(np.power(2,2*(l+m+n)+1.5)*np.power(self.exps,l+m+n+1.5)\\\n",
    "            /fact2(2*l-1)/fact2(2*m-1)/fact2(2*n-1)/np.power(np.pi,1.5))\n",
    "\n",
    "        prefactor = np.power(np.pi,1.5)*fact2(2*l-1)/fact2(2*m-1)/fact2(2*n-1)/np.power(2.0,L)\n",
    "\n",
    "        N = 0.0\n",
    "        num_exps = len(self.exps)\n",
    "        for ia in range(num_exps):\n",
    "            for ib in range(num_exps):\n",
    "                N += self.norm[ia]*self.norm[ib]*self.coefs[ia]*self.coefs[ib]/np.power(self.exps[ia] + self.exps[ib],L+1.5)\n",
    "\n",
    "        N *= prefactor\n",
    "        N = np.power(N,-0.5)\n",
    "        for ia in range(num_exps):\n",
    "                self.coefs[ia] *= N"
   ]
  },
  {
   "cell_type": "code",
   "execution_count": 131,
   "id": "7fdcdfd7-cd59-4981-bc1a-57db799ce393",
   "metadata": {},
   "outputs": [
    {
     "name": "stdout",
     "output_type": "stream",
     "text": [
      "<bound method Molecule.nre of <molecule.Molecule object at 0x7fabc1782e80>>\n"
     ]
    }
   ],
   "source": [
    "from molecule import Molecule\n",
    "\n",
    "def read_geom(filename):\n",
    "    with open(filename, \"r\") as f:\n",
    "        content = f.readlines()\n",
    "    natoms = int(content[0])\n",
    "    atoms =[]\n",
    "    for i in range(1,len(content)):\n",
    "        line = content[i].split()\n",
    "        if(len(line)>0):\n",
    "            Z = float(line[0])\n",
    "            x = 1.88973*float(line[1])\n",
    "            y = 1.88973*float(line[2])\n",
    "            z = 1.88973*float(line[3])\n",
    "        atoms.append([Z,[x,y,z]])\n",
    "    return atoms\n",
    "\n",
    "atoms =  read_geom('h2o.xyz')\n",
    "\n",
    "\n",
    "mol = Molecule(atoms)\n",
    "\n",
    "print(mol.nre)"
   ]
  },
  {
   "cell_type": "code",
   "execution_count": 132,
   "id": "0395522c-9c8d-459d-b203-e6d94ca045b5",
   "metadata": {},
   "outputs": [],
   "source": [
    "#https://www.basissetexchange.org\n",
    "\n",
    "H1_o = [0.0, 0.0, 0.88973*0.529]\n",
    "H2_o = [0.0, 0.0, -0.88973*0.529]\n",
    "\n",
    "\n",
    "myshell = (0,0,0)\n",
    "\n",
    "s1exps = [5.447178000, 0.8245472400]\n",
    "s1coefs = [0.1562849787, 0.9046908767]\n",
    "\n",
    "s2exps = [0.1831915800]\n",
    "s2coefs = [1.0]\n",
    "\n",
    "h1s1 = BasisFunction(H1_o,myshell,s1exps,s1coefs)\n",
    "h1s2 = BasisFunction(H1_o,myshell,s2exps,s2coefs)\n",
    "\n",
    "h2s1 = BasisFunction(H2_o,myshell,s1exps,s1coefs)\n",
    "h2s2 = BasisFunction(H2_o,myshell,s2exps,s2coefs)\n",
    "\n",
    "\n",
    "basisset = [h1s1,h1s2,h2s1,h2s2]\n"
   ]
  },
  {
   "cell_type": "code",
   "execution_count": 133,
   "id": "b39f0718-59df-4f01-8668-3bd7f5b2da69",
   "metadata": {},
   "outputs": [
    {
     "name": "stdout",
     "output_type": "stream",
     "text": [
      "0.06361158415932251\n"
     ]
    }
   ],
   "source": [
    "def S(a,b):\n",
    "    s = 0.0\n",
    "    for ia, ca in enumerate(a.coefs):\n",
    "        for ib,cb in enumerate(b.coefs):\n",
    "            s += a.norm[ia]*b.norm[ib]*ca*cb*overlap(a.exps[ia],a.shell,a.origin,b.exps[ib],b.shell,b.origin)\n",
    "    return s\n",
    "\n",
    "s = S(a,b)\n",
    "print(s)"
   ]
  },
  {
   "cell_type": "code",
   "execution_count": 142,
   "id": "6c71a27e-555e-457b-8566-dc11507cd361",
   "metadata": {},
   "outputs": [
    {
     "name": "stdout",
     "output_type": "stream",
     "text": [
      "[[1.         0.64589812 0.65347327 0.56487114]\n",
      " [0.64589812 1.         0.56487114 0.92204249]\n",
      " [0.65347327 0.56487114 1.         0.64589812]\n",
      " [0.56487114 0.92204249 0.64589812 1.        ]]\n"
     ]
    }
   ],
   "source": [
    "def overlap_matrix(basisset):\n",
    "    nbasis = len(basisset)\n",
    "    s = np.zeros((nbasis,nbasis))\n",
    "    for i in range(nbasis):\n",
    "        for j in range(i+1):\n",
    "            s[i,j] = s[j,i] = S(basisset[i],basisset[j])\n",
    "    return s\n",
    "\n",
    "\n",
    "Overlap = overlap_matrix(basisset)\n",
    "print(Overlap)\n"
   ]
  },
  {
   "cell_type": "code",
   "execution_count": 144,
   "id": "351d6e7c-9fd7-477d-a71d-e34bf7a62262",
   "metadata": {},
   "outputs": [],
   "source": [
    "def kinetic(a,lmn1,A,b,lmn2,B):\n",
    "    l1,m1,n1 = lmn1\n",
    "    l2,m2,n2 = lmn2\n",
    "    term0 = b*(2*(l2+m2+n2)+3)*\\\n",
    "                            overlap(a,(l1,m1,n1),A,b,(l2,m2,n2),B)\n",
    "    term1 = -2*np.power(b,2)*\\\n",
    "                           (overlap(a,(l1,m1,n1),A,b,(l2+2,m2,n2),B) +\n",
    "                            overlap(a,(l1,m1,n1),A,b,(l2,m2+2,n2),B) +\n",
    "                            overlap(a,(l1,m1,n1),A,b,(l2,m2,n2+2),B))\n",
    "    term2 = -0.5*(l2*(l2-1)*overlap(a,(l1,m1,n1),A,b,(l2-2,m2,n2),B) +\n",
    "                  m2*(m2-1)*overlap(a,(l1,m1,n1),A,b,(l2,m2-2,n2),B) +\n",
    "                  n2*(n2-1)*overlap(a,(l1,m1,n1),A,b,(l2,m2,n2-2),B))\n",
    "    return term0+term1+term2"
   ]
  },
  {
   "cell_type": "code",
   "execution_count": 143,
   "id": "2db523d4-f0d6-414b-998f-23f9c72d0083",
   "metadata": {},
   "outputs": [
    {
     "name": "stdout",
     "output_type": "stream",
     "text": [
      "-0.017560249051917404\n"
     ]
    }
   ],
   "source": [
    "def T(a,b):\n",
    "    t = 0.0\n",
    "    for ia, ca in enumerate(a.coefs):\n",
    "        for ib, cb in enumerate(b.coefs):\n",
    "            t += a.norm[ia]*b.norm[ib]*ca*cb*\\\n",
    "                     kinetic(a.exps[ia],a.shell,a.origin,\\\n",
    "                     b.exps[ib],b.shell,b.origin)\n",
    "    return t\n",
    "t = T(a,b)\n",
    "print (t)"
   ]
  },
  {
   "cell_type": "code",
   "execution_count": null,
   "id": "4ace5260-12f8-493b-b5e4-e7ead1cb1fd0",
   "metadata": {},
   "outputs": [],
   "source": []
  }
 ],
 "metadata": {
  "kernelspec": {
   "display_name": "Python 3 (ipykernel)",
   "language": "python",
   "name": "python3"
  },
  "language_info": {
   "codemirror_mode": {
    "name": "ipython",
    "version": 3
   },
   "file_extension": ".py",
   "mimetype": "text/x-python",
   "name": "python",
   "nbconvert_exporter": "python",
   "pygments_lexer": "ipython3",
   "version": "3.9.13"
  }
 },
 "nbformat": 4,
 "nbformat_minor": 5
}
